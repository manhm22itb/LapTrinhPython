{
  "nbformat": 4,
  "nbformat_minor": 0,
  "metadata": {
    "colab": {
      "provenance": []
    },
    "kernelspec": {
      "name": "python3",
      "display_name": "Python 3"
    },
    "language_info": {
      "name": "python"
    }
  },
  "cells": [
    {
      "cell_type": "markdown",
      "source": [
        "Bài 1. Viết một chương trình nhập vào một số nguyên dương. Nếu nó là số chẵn thì in ra chuỗi “Đây là số chẵn”, ngược lại thì in ra chuỗi “Đây là số lẻ”:\n"
      ],
      "metadata": {
        "id": "QSdbj_ppBLKg"
      }
    },
    {
      "cell_type": "code",
      "source": [
        "n = int(input(\"Nhập vào số nguyên dương: \"))\n",
        "if n/2 ==0:\n",
        "  print(\"Đây là số chẵn\")\n",
        "else:\n",
        "  print(\"Đây là số lẻ\")"
      ],
      "metadata": {
        "colab": {
          "base_uri": "https://localhost:8080/"
        },
        "id": "Eo4_TueGBTVf",
        "outputId": "123b16b7-3eef-42e1-e388-12827e93709f"
      },
      "execution_count": null,
      "outputs": [
        {
          "output_type": "stream",
          "name": "stdout",
          "text": [
            "Nhập vào số nguyên dương: 9\n",
            "Đây là số lẻ\n"
          ]
        }
      ]
    },
    {
      "cell_type": "markdown",
      "source": [
        "Bài 2. Viết một chương trình kiểm tra một chuỗi nhập vào từ bàn phím: Chuỗi hoa; Chuỗi thường; Chuỗi chứa ký tự hoa và ký tự thường.\n"
      ],
      "metadata": {
        "id": "rgSm18_HCAlZ"
      }
    },
    {
      "cell_type": "code",
      "source": [
        "n = input(\"Nhập vào chuỗi: \")\n",
        "if n.isupper():\n",
        "  print(\"Chuỗi hoa\")\n",
        "elif n.islower():\n",
        "  print(\"Chuỗi thường\")\n",
        "else:\n",
        "  print(\"Chuỗi chứa ký tự hoa và ký tự thường\")"
      ],
      "metadata": {
        "colab": {
          "base_uri": "https://localhost:8080/"
        },
        "id": "b14P6dlRCCGA",
        "outputId": "bd511c92-0e93-4b29-d778-6055da140f40"
      },
      "execution_count": 1,
      "outputs": [
        {
          "output_type": "stream",
          "name": "stdout",
          "text": [
            "Nhập vào chuỗi: ABCGDYl\n",
            "Chuỗi chứa ký tự hoa và ký tự thường\n"
          ]
        }
      ]
    },
    {
      "cell_type": "markdown",
      "source": [
        "Bài 3. Viết một chương trình kiểm tra một chuỗi có trong chuỗi khác.\n",
        "\n",
        "Yêu cầu:\n",
        "Nhập vào một chuỗi st\n",
        "\n",
        "Nhập vào chuỗi cần tìm st_search\n",
        "\n",
        "Nếu có thì in ra màn hình “Đã tìm thấy chuỗi cần tìm, tại vị trí: …”.\n"
      ],
      "metadata": {
        "id": "oU08qJXwCueU"
      }
    },
    {
      "cell_type": "code",
      "source": [
        "st = input(\"Nhập vào chuỗi:\")\n",
        "st_search= input(\"nhập vào chuối cần tìm: \")\n",
        "if st_search in st:\n",
        "  print(\"Đã tìm thấy chuỗi cần tìm, tại vị trí: \" + str(st.find(st_search)) )\n",
        "\n",
        "else:\n",
        "  print(\"Không tìm thấy chuỗi cần tìm\")"
      ],
      "metadata": {
        "colab": {
          "base_uri": "https://localhost:8080/"
        },
        "id": "K7bYpwZOC0Z0",
        "outputId": "e32f9fb4-dccc-4aba-8f24-c5960b6f4b06"
      },
      "execution_count": 2,
      "outputs": [
        {
          "output_type": "stream",
          "name": "stdout",
          "text": [
            "Nhập vào chuỗi:Ho Minh Man\n",
            "nhập vào chuối cần tìm: Man\n",
            "Đã tìm thấy chuỗi cần tìm, tại vị trí: 8\n"
          ]
        }
      ]
    },
    {
      "cell_type": "markdown",
      "source": [
        "Bài 4. Viết chương trình in số lớn nhất của 3 số"
      ],
      "metadata": {
        "id": "3v3ozvJtEA3U"
      }
    },
    {
      "cell_type": "code",
      "source": [
        "input_str = input(\"Nhập vào lần lượt 3 số a, b, c: \")\n",
        "a, b, c = map(int, input_str.split())\n",
        "if((a>b)  and (a>c)):\n",
        "  largest = a\n",
        "\n",
        "elif((b>a) and (b>c)):\n",
        "  largest = b\n",
        "\n",
        "else:\n",
        "  largest = c\n",
        "\n",
        "print(\"Số lớn nhất là: \", largest)"
      ],
      "metadata": {
        "colab": {
          "base_uri": "https://localhost:8080/"
        },
        "id": "N3lK5HiVEI1Y",
        "outputId": "b671055c-4221-4e32-8da0-150bd4018241"
      },
      "execution_count": 3,
      "outputs": [
        {
          "output_type": "stream",
          "name": "stdout",
          "text": [
            "Nhập vào lần lượt 3 số a, b, c: 4 5 9\n",
            "Số lớn nhất là:  9\n"
          ]
        }
      ]
    },
    {
      "cell_type": "markdown",
      "source": [
        "Bài 5: Viết một chương trình tính 1/2 + 2/3 + 3/4 + ... + n/(n + 1) với n là số nguyên được nhập vào (n> 0).\n",
        "\n"
      ],
      "metadata": {
        "id": "vRpd3UJjULf_"
      }
    },
    {
      "cell_type": "code",
      "source": [
        "n = int(input(\"Nhập vào số nguyên dương n: \"))\n",
        "sum= 0.0\n",
        "for i in range(1, n+1):\n",
        "  sum = float(sum + (i/(i+1)))\n",
        "print(f\"{sum:.2f}\")"
      ],
      "metadata": {
        "colab": {
          "base_uri": "https://localhost:8080/"
        },
        "id": "TmYu2UXjUjT3",
        "outputId": "607c489f-8524-4ed0-88b0-1b900eaf274f"
      },
      "execution_count": 4,
      "outputs": [
        {
          "output_type": "stream",
          "name": "stdout",
          "text": [
            "Nhập vào số nguyên dương n: 99\n",
            "94.81\n"
          ]
        }
      ]
    },
    {
      "cell_type": "markdown",
      "source": [
        "Bài 6: Viết một chương trình chấp nhận đầu vào là một câu, đếm số ký tự hoa, số\n",
        "\n",
        "ký tự thường. Giả sử đầu vào là: Quản Trị Mạng\n",
        "\n",
        "Thì đầu ra là: Chữ hoa: 3\n",
        "\n",
        "Chữ thường: 8\n"
      ],
      "metadata": {
        "id": "gm-81J12WVm7"
      }
    },
    {
      "cell_type": "code",
      "source": [
        "str = input(\"Nhập vào câu: \")\n",
        "count_upper = 0\n",
        "count_lower = 0\n",
        "for i in str:\n",
        "  if i.isupper():\n",
        "    count_upper +=1\n",
        "  elif i.islower():\n",
        "    count_lower+=1\n",
        "  else:\n",
        "    pass\n",
        "print(\"Chữ hoa: \", count_upper)\n",
        "print(\"Chữ thường: \", count_lower)"
      ],
      "metadata": {
        "colab": {
          "base_uri": "https://localhost:8080/"
        },
        "id": "bcMnqFQNWa2a",
        "outputId": "25f46b77-3417-4449-b137-c1c7a5c9a7f7"
      },
      "execution_count": 5,
      "outputs": [
        {
          "output_type": "stream",
          "name": "stdout",
          "text": [
            "Nhập vào câu: Lap Trinh Python\n",
            "Chữ hoa:  3\n",
            "Chữ thường:  11\n"
          ]
        }
      ]
    },
    {
      "cell_type": "markdown",
      "source": [
        "Bài 7: Một số được gọi là số Amstrong bậc N, nếu nó là số nguyên dương và tổng\n",
        "\n",
        "bậc N của các các chữ số cấu thành thì bằng chính số đó.Ví dụ:\n",
        "\n",
        "Số Amstrong bậc 4:  abcd = a4 + b4 + c4 + d4\n",
        "\n",
        "Số Amstrong bậc N: abc….d  = aN + bN + cN + ….+ dN\n",
        "\n",
        "Cụ thể: 153 = 1*1*1 + 5*5*5 + 3*3*3  nên 153 số Amstrong.\n",
        "\n",
        "Viết chương trình nhập vào 1 số, cho biết số đó có phải là số Amstrong hay không?\n"
      ],
      "metadata": {
        "id": "PZPC9gQZYZz7"
      }
    },
    {
      "cell_type": "code",
      "source": [
        "n = int(input(\"Nhập vào số: \"))\n",
        "level = int(input(\"Nhập vào bậc: \"))\n",
        "total = 0\n",
        "temp = n\n",
        "\n",
        "while(temp > 0):\n",
        "  digit = temp %10\n",
        "  total = total + digit ** level\n",
        "  temp //=10\n",
        "if n == total :\n",
        "  print(n, \"is Armstrong, Level:\", level)\n",
        "else:\n",
        "  print(n, \"is not Amstrong\")"
      ],
      "metadata": {
        "colab": {
          "base_uri": "https://localhost:8080/"
        },
        "id": "HYdxf2HyY3TI",
        "outputId": "d32db94c-9e8f-4b90-d276-6d4f31edf08e"
      },
      "execution_count": null,
      "outputs": [
        {
          "output_type": "stream",
          "name": "stdout",
          "text": [
            "Nhập vào số: 153\n",
            "Nhập vào bậc: 3\n",
            "153 is Armstrong, Level: 3\n"
          ]
        }
      ]
    },
    {
      "cell_type": "markdown",
      "source": [
        "Bài 8: Viết chương trình loại bỏ các ký tự không phải là ký tự CHỮ CÁI\n",
        " và SỐ trong một chuỗi.\n",
        "\n",
        "  Ví dụ: Từ st1 = \"He is very handsome@%^&%^\" Trích thành chuỗi st2 = \"He is very handsome“\n"
      ],
      "metadata": {
        "id": "UDWqCMEima2T"
      }
    },
    {
      "cell_type": "code",
      "source": [
        "str1 = \"He is very handsome@%^&$^\"\n",
        "remove_str = \"\"\"@%^&$^\"\"\"\n",
        "str2 = \"\"\n",
        "for char in str1:\n",
        "  if char not in remove_str:\n",
        "    str2 = str2+char\n",
        "print(str2)\n"
      ],
      "metadata": {
        "colab": {
          "base_uri": "https://localhost:8080/"
        },
        "id": "njfAHBxjml17",
        "outputId": "6a2105ab-3032-4fdf-86b9-7d3a1c54201a"
      },
      "execution_count": null,
      "outputs": [
        {
          "output_type": "stream",
          "name": "stdout",
          "text": [
            "He is very handsome\n"
          ]
        }
      ]
    },
    {
      "cell_type": "markdown",
      "source": [
        "Bài 9: Viết chương trình tách từ thành 1 danh sách và sắp xếp các từ theo alphabe."
      ],
      "metadata": {
        "id": "LWXUsjc7sEf-"
      }
    },
    {
      "cell_type": "code",
      "source": [
        "# str = \"Hello this is an example with cased letters\"\n",
        "str = input(\"Enter your string: \")\n",
        "str_split = str.split()\n",
        "print(str_split)\n",
        "str_split.sort()\n",
        "\n",
        "for tu in str_split:\n",
        "  print(tu)\n"
      ],
      "metadata": {
        "colab": {
          "base_uri": "https://localhost:8080/"
        },
        "id": "X4Hz_4t_SgMu",
        "outputId": "fe3f827e-c744-46a6-8c6f-2571a9023537"
      },
      "execution_count": null,
      "outputs": [
        {
          "output_type": "stream",
          "name": "stdout",
          "text": [
            "Enter your string: hello name my\n",
            "['hello', 'name', 'my']\n",
            "hello\n",
            "my\n",
            "name\n"
          ]
        }
      ]
    },
    {
      "cell_type": "markdown",
      "source": [
        "Bài 10: Viết Chương trình nhập các số từ bàn phím. In ra giá trị trung bình"
      ],
      "metadata": {
        "id": "GtiQC5fRVJ7s"
      }
    },
    {
      "cell_type": "code",
      "source": [
        "total =0\n",
        "count =0\n",
        "while(True):\n",
        "  n = input(\"Enter number: \")\n",
        "  if n== \"done\":\n",
        "    break\n",
        "  value = float(n)\n",
        "  total = total + value\n",
        "  count = count + 1\n",
        "average = total/count\n",
        "print(average)\n"
      ],
      "metadata": {
        "id": "ODd53qf9VRW5",
        "colab": {
          "base_uri": "https://localhost:8080/"
        },
        "outputId": "05f34996-727f-4c03-e9e3-69c4969df5e7"
      },
      "execution_count": 8,
      "outputs": [
        {
          "output_type": "stream",
          "name": "stdout",
          "text": [
            "Enter number: 9\n",
            "Enter number: 10\n",
            "Enter number: 8\n",
            "Enter number: done\n",
            "9.0\n"
          ]
        }
      ]
    },
    {
      "cell_type": "markdown",
      "source": [
        "Bài 11: Viết Chương trình nhập các số từ bàn phím, các giá trị này lưu vào danh sách. Sau đó, in ra giá trị trung bình.\n"
      ],
      "metadata": {
        "id": "iYcKyYS_7yYt"
      }
    },
    {
      "cell_type": "code",
      "source": [
        "numlist = list()\n",
        "while (True):\n",
        "    inp = input(\"Enter a number: \")\n",
        "    if inp == \"done\": break\n",
        "    value = float(inp)\n",
        "    numlist.append(value)\n",
        "\n",
        "average = sum(numlist) / len(numlist)\n",
        "print(\"Giá trị Trung bình:\", average)\n",
        "print(numlist)\n"
      ],
      "metadata": {
        "colab": {
          "base_uri": "https://localhost:8080/"
        },
        "id": "MjY5cJfE7zN9",
        "outputId": "edbda3e9-05f7-430c-d627-da90edfc9c8f"
      },
      "execution_count": null,
      "outputs": [
        {
          "output_type": "stream",
          "name": "stdout",
          "text": [
            "Enter a number: 12\n",
            "Enter a number: done\n",
            "Giá trị Trung bình: 12.0\n",
            "[12.0]\n"
          ]
        }
      ]
    },
    {
      "cell_type": "markdown",
      "source": [
        "Bài 12: Viết chương trình tìm tất cả các số chia hết cho 7 nhưng không phải bội số của 5, nằm trong đoạn 2000 và 3200 (tính cả 2000 và 3200). Các số thu được sẽ được lưu vào 1 danh sách sau đó in thành chuỗi trên một dòng, cách nhau bằng dấu phẩy.\n"
      ],
      "metadata": {
        "id": "Qiq7lk8sIJ7w"
      }
    },
    {
      "cell_type": "code",
      "source": [
        "j=[]\n",
        "for i in range(2000, 3201):\n",
        "  if (i%7==0) and (i%5!=0):\n",
        "    j.append(str(i))\n",
        "print(\",\".join(j))"
      ],
      "metadata": {
        "colab": {
          "base_uri": "https://localhost:8080/"
        },
        "id": "cGlQGexKIKmE",
        "outputId": "792a0acb-aa2d-426a-b694-5be0c24276ed"
      },
      "execution_count": null,
      "outputs": [
        {
          "output_type": "stream",
          "name": "stdout",
          "text": [
            "\n",
            "2002,2009,2016,2023,2037,2044,2051,2058,2072,2079,2086,2093,2107,2114,2121,2128,2142,2149,2156,2163,2177,2184,2191,2198,2212,2219,2226,2233,2247,2254,2261,2268,2282,2289,2296,2303,2317,2324,2331,2338,2352,2359,2366,2373,2387,2394,2401,2408,2422,2429,2436,2443,2457,2464,2471,2478,2492,2499,2506,2513,2527,2534,2541,2548,2562,2569,2576,2583,2597,2604,2611,2618,2632,2639,2646,2653,2667,2674,2681,2688,2702,2709,2716,2723,2737,2744,2751,2758,2772,2779,2786,2793,2807,2814,2821,2828,2842,2849,2856,2863,2877,2884,2891,2898,2912,2919,2926,2933,2947,2954,2961,2968,2982,2989,2996,3003,3017,3024,3031,3038,3052,3059,3066,3073,3087,3094,3101,3108,3122,3129,3136,3143,3157,3164,3171,3178,3192,3199\n"
          ]
        }
      ]
    },
    {
      "cell_type": "markdown",
      "source": [
        "Bài 13: Viết một chương trình cho phép người dung nhập vào một chuỗi trên nhiều dòng, sau đó chuyển các dòng này thành chữ in hoa và in ra màn hình. Yêu cầu:\n",
        "\n",
        "Giả sử đầu vào là:\n",
        "         chào các bạn\n",
        "         thân mến\n",
        "         \n",
        "Đầu ra:\n",
        "        CHÀO CÁC BẠN\n",
        "        THÂN MẾN\n"
      ],
      "metadata": {
        "id": "uzDI8jkjI9EE"
      }
    },
    {
      "cell_type": "code",
      "source": [
        "#khai báo 1 chuỗi\n",
        "lines=[]\n",
        "#trong khi đúng\n",
        "while(True):\n",
        "  s=input()\n",
        "  # nếu tồn tại s thì thêm s IN HOA vào chuỗi\n",
        "  if s:\n",
        "    lines.append(s.upper())\n",
        "  else:\n",
        "    break;\n",
        "# trong khi cái câu đó còn trong chuỗi thì in lần lượt ra\n",
        "for sentence in lines:\n",
        "  print(sentence)"
      ],
      "metadata": {
        "colab": {
          "base_uri": "https://localhost:8080/"
        },
        "id": "JAgFfppBI_xL",
        "outputId": "b349a5d8-e102-4670-b3b3-8e0ed066f09d"
      },
      "execution_count": null,
      "outputs": [
        {
          "output_type": "stream",
          "name": "stdout",
          "text": [
            "ly lung linh\n",
            "k\n",
            "\n",
            "LY LUNG LINH\n",
            "K\n"
          ]
        }
      ]
    },
    {
      "cell_type": "markdown",
      "source": [
        "Bài 14: Viết một chương trình tìm tất cả các số trong đoạn 100 và 300 (tính cả 2 số này) sao cho tất cả các chữ số trong số đó là số chẵn. In các số tìm được thành chuỗi cách nhau bởi dấu phẩy, trên một dòng.\n"
      ],
      "metadata": {
        "id": "FofugtFCJ_2Q"
      }
    },
    {
      "cell_type": "code",
      "source": [
        "numbers=[]\n",
        "for i in range(100, 301):\n",
        "  s=str(i)\n",
        "# s[0]: kiểm tra hàng trăm có chẵn không\n",
        "# s[1]: kiểm tra hàng chục có chẵn không\n",
        "# s[2]: kiểm tra hàng đơn vị có chẵn không\n",
        "  if(int(s[0])%2==0) and (int(s[1])%2==0) and (int(s[2])%2==0):\n",
        "    numbers.append(str(s))\n",
        "print(\",\".join(numbers))\n"
      ],
      "metadata": {
        "colab": {
          "base_uri": "https://localhost:8080/"
        },
        "id": "B2ziGUDFKEEX",
        "outputId": "e93af2dd-4eb8-428e-ed8a-ff539372a152"
      },
      "execution_count": null,
      "outputs": [
        {
          "output_type": "stream",
          "name": "stdout",
          "text": [
            "200,202,204,206,208,220,222,224,226,228,240,242,244,246,248,260,262,264,266,268,280,282,284,286,288\n"
          ]
        }
      ]
    },
    {
      "cell_type": "markdown",
      "source": [
        "Bài 15: Viết chương trình nhập một chuỗi số, phân tách bằng dấu phẩy.\n",
        "In ra một danh sách và một tuple chứa mọi số.\n",
        "\n",
        "Ví dụ: Đầu vào được cung cấp là 34,67,55,33,12,98 thì đầu ra là:\n",
        "\n",
        "[\"34\", \"67\", \"55\", \"33\", \"12\", \"98\"]\n",
        "(\"34\", \"67\", \"55\", \"33\", \"12\", \"98\")\n"
      ],
      "metadata": {
        "id": "fXwtmmbdNVlA"
      }
    },
    {
      "cell_type": "code",
      "source": [
        "str=input(\"enter str \")\n",
        "list_type= str.split(\",\")\n",
        "tuple_type = tuple(list_type)\n",
        "print(list_type)\n",
        "print(tuple_type)\n"
      ],
      "metadata": {
        "colab": {
          "base_uri": "https://localhost:8080/"
        },
        "id": "H7fsugvBNhiX",
        "outputId": "06fcfa06-b581-4eab-9381-97379ff2323c"
      },
      "execution_count": null,
      "outputs": [
        {
          "output_type": "stream",
          "name": "stdout",
          "text": [
            "enter str Nguyen Tuyet Ly\n",
            "['Nguyen Tuyet Ly']\n",
            "('Nguyen Tuyet Ly',)\n"
          ]
        }
      ]
    },
    {
      "cell_type": "markdown",
      "source": [
        "Bài 16:\n",
        "Tạo ra một tự điển, có n phần tử, các khóa là từ 1 đến n và **giá trị tương ứng là bình phương của khóa**. Sau đó in từ điển ra màn hình\n"
      ],
      "metadata": {
        "id": "1KMt_S4DPEbT"
      }
    },
    {
      "cell_type": "code",
      "source": [
        "n=int(input(\"enter a number: \"))\n",
        "d=dict()\n",
        "for i in range(1, n+1):\n",
        "  d[i] = i*i\n",
        "print(d)"
      ],
      "metadata": {
        "colab": {
          "base_uri": "https://localhost:8080/"
        },
        "id": "BBlS4k8rPLJj",
        "outputId": "74eff85a-0d16-4d5e-98e9-d552002325c0"
      },
      "execution_count": null,
      "outputs": [
        {
          "output_type": "stream",
          "name": "stdout",
          "text": [
            "enter a number: 567\n",
            "{1: 1, 2: 4, 3: 9, 4: 16, 5: 25, 6: 36, 7: 49, 8: 64, 9: 81, 10: 100, 11: 121, 12: 144, 13: 169, 14: 196, 15: 225, 16: 256, 17: 289, 18: 324, 19: 361, 20: 400, 21: 441, 22: 484, 23: 529, 24: 576, 25: 625, 26: 676, 27: 729, 28: 784, 29: 841, 30: 900, 31: 961, 32: 1024, 33: 1089, 34: 1156, 35: 1225, 36: 1296, 37: 1369, 38: 1444, 39: 1521, 40: 1600, 41: 1681, 42: 1764, 43: 1849, 44: 1936, 45: 2025, 46: 2116, 47: 2209, 48: 2304, 49: 2401, 50: 2500, 51: 2601, 52: 2704, 53: 2809, 54: 2916, 55: 3025, 56: 3136, 57: 3249, 58: 3364, 59: 3481, 60: 3600, 61: 3721, 62: 3844, 63: 3969, 64: 4096, 65: 4225, 66: 4356, 67: 4489, 68: 4624, 69: 4761, 70: 4900, 71: 5041, 72: 5184, 73: 5329, 74: 5476, 75: 5625, 76: 5776, 77: 5929, 78: 6084, 79: 6241, 80: 6400, 81: 6561, 82: 6724, 83: 6889, 84: 7056, 85: 7225, 86: 7396, 87: 7569, 88: 7744, 89: 7921, 90: 8100, 91: 8281, 92: 8464, 93: 8649, 94: 8836, 95: 9025, 96: 9216, 97: 9409, 98: 9604, 99: 9801, 100: 10000, 101: 10201, 102: 10404, 103: 10609, 104: 10816, 105: 11025, 106: 11236, 107: 11449, 108: 11664, 109: 11881, 110: 12100, 111: 12321, 112: 12544, 113: 12769, 114: 12996, 115: 13225, 116: 13456, 117: 13689, 118: 13924, 119: 14161, 120: 14400, 121: 14641, 122: 14884, 123: 15129, 124: 15376, 125: 15625, 126: 15876, 127: 16129, 128: 16384, 129: 16641, 130: 16900, 131: 17161, 132: 17424, 133: 17689, 134: 17956, 135: 18225, 136: 18496, 137: 18769, 138: 19044, 139: 19321, 140: 19600, 141: 19881, 142: 20164, 143: 20449, 144: 20736, 145: 21025, 146: 21316, 147: 21609, 148: 21904, 149: 22201, 150: 22500, 151: 22801, 152: 23104, 153: 23409, 154: 23716, 155: 24025, 156: 24336, 157: 24649, 158: 24964, 159: 25281, 160: 25600, 161: 25921, 162: 26244, 163: 26569, 164: 26896, 165: 27225, 166: 27556, 167: 27889, 168: 28224, 169: 28561, 170: 28900, 171: 29241, 172: 29584, 173: 29929, 174: 30276, 175: 30625, 176: 30976, 177: 31329, 178: 31684, 179: 32041, 180: 32400, 181: 32761, 182: 33124, 183: 33489, 184: 33856, 185: 34225, 186: 34596, 187: 34969, 188: 35344, 189: 35721, 190: 36100, 191: 36481, 192: 36864, 193: 37249, 194: 37636, 195: 38025, 196: 38416, 197: 38809, 198: 39204, 199: 39601, 200: 40000, 201: 40401, 202: 40804, 203: 41209, 204: 41616, 205: 42025, 206: 42436, 207: 42849, 208: 43264, 209: 43681, 210: 44100, 211: 44521, 212: 44944, 213: 45369, 214: 45796, 215: 46225, 216: 46656, 217: 47089, 218: 47524, 219: 47961, 220: 48400, 221: 48841, 222: 49284, 223: 49729, 224: 50176, 225: 50625, 226: 51076, 227: 51529, 228: 51984, 229: 52441, 230: 52900, 231: 53361, 232: 53824, 233: 54289, 234: 54756, 235: 55225, 236: 55696, 237: 56169, 238: 56644, 239: 57121, 240: 57600, 241: 58081, 242: 58564, 243: 59049, 244: 59536, 245: 60025, 246: 60516, 247: 61009, 248: 61504, 249: 62001, 250: 62500, 251: 63001, 252: 63504, 253: 64009, 254: 64516, 255: 65025, 256: 65536, 257: 66049, 258: 66564, 259: 67081, 260: 67600, 261: 68121, 262: 68644, 263: 69169, 264: 69696, 265: 70225, 266: 70756, 267: 71289, 268: 71824, 269: 72361, 270: 72900, 271: 73441, 272: 73984, 273: 74529, 274: 75076, 275: 75625, 276: 76176, 277: 76729, 278: 77284, 279: 77841, 280: 78400, 281: 78961, 282: 79524, 283: 80089, 284: 80656, 285: 81225, 286: 81796, 287: 82369, 288: 82944, 289: 83521, 290: 84100, 291: 84681, 292: 85264, 293: 85849, 294: 86436, 295: 87025, 296: 87616, 297: 88209, 298: 88804, 299: 89401, 300: 90000, 301: 90601, 302: 91204, 303: 91809, 304: 92416, 305: 93025, 306: 93636, 307: 94249, 308: 94864, 309: 95481, 310: 96100, 311: 96721, 312: 97344, 313: 97969, 314: 98596, 315: 99225, 316: 99856, 317: 100489, 318: 101124, 319: 101761, 320: 102400, 321: 103041, 322: 103684, 323: 104329, 324: 104976, 325: 105625, 326: 106276, 327: 106929, 328: 107584, 329: 108241, 330: 108900, 331: 109561, 332: 110224, 333: 110889, 334: 111556, 335: 112225, 336: 112896, 337: 113569, 338: 114244, 339: 114921, 340: 115600, 341: 116281, 342: 116964, 343: 117649, 344: 118336, 345: 119025, 346: 119716, 347: 120409, 348: 121104, 349: 121801, 350: 122500, 351: 123201, 352: 123904, 353: 124609, 354: 125316, 355: 126025, 356: 126736, 357: 127449, 358: 128164, 359: 128881, 360: 129600, 361: 130321, 362: 131044, 363: 131769, 364: 132496, 365: 133225, 366: 133956, 367: 134689, 368: 135424, 369: 136161, 370: 136900, 371: 137641, 372: 138384, 373: 139129, 374: 139876, 375: 140625, 376: 141376, 377: 142129, 378: 142884, 379: 143641, 380: 144400, 381: 145161, 382: 145924, 383: 146689, 384: 147456, 385: 148225, 386: 148996, 387: 149769, 388: 150544, 389: 151321, 390: 152100, 391: 152881, 392: 153664, 393: 154449, 394: 155236, 395: 156025, 396: 156816, 397: 157609, 398: 158404, 399: 159201, 400: 160000, 401: 160801, 402: 161604, 403: 162409, 404: 163216, 405: 164025, 406: 164836, 407: 165649, 408: 166464, 409: 167281, 410: 168100, 411: 168921, 412: 169744, 413: 170569, 414: 171396, 415: 172225, 416: 173056, 417: 173889, 418: 174724, 419: 175561, 420: 176400, 421: 177241, 422: 178084, 423: 178929, 424: 179776, 425: 180625, 426: 181476, 427: 182329, 428: 183184, 429: 184041, 430: 184900, 431: 185761, 432: 186624, 433: 187489, 434: 188356, 435: 189225, 436: 190096, 437: 190969, 438: 191844, 439: 192721, 440: 193600, 441: 194481, 442: 195364, 443: 196249, 444: 197136, 445: 198025, 446: 198916, 447: 199809, 448: 200704, 449: 201601, 450: 202500, 451: 203401, 452: 204304, 453: 205209, 454: 206116, 455: 207025, 456: 207936, 457: 208849, 458: 209764, 459: 210681, 460: 211600, 461: 212521, 462: 213444, 463: 214369, 464: 215296, 465: 216225, 466: 217156, 467: 218089, 468: 219024, 469: 219961, 470: 220900, 471: 221841, 472: 222784, 473: 223729, 474: 224676, 475: 225625, 476: 226576, 477: 227529, 478: 228484, 479: 229441, 480: 230400, 481: 231361, 482: 232324, 483: 233289, 484: 234256, 485: 235225, 486: 236196, 487: 237169, 488: 238144, 489: 239121, 490: 240100, 491: 241081, 492: 242064, 493: 243049, 494: 244036, 495: 245025, 496: 246016, 497: 247009, 498: 248004, 499: 249001, 500: 250000, 501: 251001, 502: 252004, 503: 253009, 504: 254016, 505: 255025, 506: 256036, 507: 257049, 508: 258064, 509: 259081, 510: 260100, 511: 261121, 512: 262144, 513: 263169, 514: 264196, 515: 265225, 516: 266256, 517: 267289, 518: 268324, 519: 269361, 520: 270400, 521: 271441, 522: 272484, 523: 273529, 524: 274576, 525: 275625, 526: 276676, 527: 277729, 528: 278784, 529: 279841, 530: 280900, 531: 281961, 532: 283024, 533: 284089, 534: 285156, 535: 286225, 536: 287296, 537: 288369, 538: 289444, 539: 290521, 540: 291600, 541: 292681, 542: 293764, 543: 294849, 544: 295936, 545: 297025, 546: 298116, 547: 299209, 548: 300304, 549: 301401, 550: 302500, 551: 303601, 552: 304704, 553: 305809, 554: 306916, 555: 308025, 556: 309136, 557: 310249, 558: 311364, 559: 312481, 560: 313600, 561: 314721, 562: 315844, 563: 316969, 564: 318096, 565: 319225, 566: 320356, 567: 321489}\n"
          ]
        }
      ]
    }
  ]
}