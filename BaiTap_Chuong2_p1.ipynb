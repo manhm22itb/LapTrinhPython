{
  "nbformat": 4,
  "nbformat_minor": 0,
  "metadata": {
    "colab": {
      "provenance": []
    },
    "kernelspec": {
      "name": "python3",
      "display_name": "Python 3"
    },
    "language_info": {
      "name": "python"
    }
  },
  "cells": [
    {
      "cell_type": "markdown",
      "source": [
        "Viết chương trình nhập vào 1 chuỗi\n",
        "1. in ra chuỗi in hoa\n",
        "2. in ra chuỗi thường\n",
        "3. in ra chuỗi có ký tự đầu là ký tự hoa\n"
      ],
      "metadata": {
        "id": "Fhv44ZULCWyT"
      }
    },
    {
      "cell_type": "code",
      "source": [
        "string = input(\"Your characters: \")\n",
        "string_upper = string.upper()\n",
        "string_lower = string.lower()\n",
        "string_title = string.title()\n",
        "print(string_upper)\n",
        "print(string_lower)\n",
        "print(string_title)"
      ],
      "metadata": {
        "colab": {
          "base_uri": "https://localhost:8080/"
        },
        "id": "kDFxrl1GC0X6",
        "outputId": "bdf5a235-631a-4320-b94f-c07fe0db6d2d"
      },
      "execution_count": null,
      "outputs": [
        {
          "output_type": "stream",
          "name": "stdout",
          "text": [
            "Your characters: Minh Man\n",
            "MINH MAN\n",
            "minh man\n",
            "Minh Man\n"
          ]
        }
      ]
    },
    {
      "cell_type": "markdown",
      "source": [
        "Bài 2. Cho chuỗi biểu diễn địa chỉ email:   \"minhnhutvh@gmail.com\"\n",
        "\n",
        "Rút trích và hiển thị chuỗi \"gmail.com\" (Đây chính là  tên Host)"
      ],
      "metadata": {
        "id": "GKk6MS0BDHGw"
      }
    },
    {
      "cell_type": "code",
      "source": [
        "data = \"minhnhutvh@gmail.com\"\n",
        "position = data.find(\"@\")\n",
        "host = data[position +1 :]\n",
        "print(host)"
      ],
      "metadata": {
        "colab": {
          "base_uri": "https://localhost:8080/"
        },
        "id": "0lCs8tLODR-R",
        "outputId": "d657a4a5-982c-4afd-f107-937feb59d990"
      },
      "execution_count": null,
      "outputs": [
        {
          "output_type": "stream",
          "name": "stdout",
          "text": [
            "gmail.com\n"
          ]
        }
      ]
    },
    {
      "cell_type": "markdown",
      "source": [
        "Bài 3. Cho chuỗi biểu diễn:  \n",
        "        ‘minhnhutvh@gmai.comSatJan509:14:16’\n",
        "        \n",
        "Rút trích và hiển thị chuỗi “gmail.com”\n",
        "\n",
        "\n"
      ],
      "metadata": {
        "id": "afdBU5NBFaJS"
      }
    },
    {
      "cell_type": "code",
      "source": [
        "data = \"minhnhutvh@gmai.comSatJan509:14:16\"\n",
        "print(data[11:19])\n",
        "\n",
        "#\n",
        "start_position = data.find(\"@\")\n",
        "end_position = data.find(\"\", start_position)\n",
        "host = (data[start_position +1 : end_position])\n",
        "print(host)"
      ],
      "metadata": {
        "colab": {
          "base_uri": "https://localhost:8080/"
        },
        "id": "dxp0FvKrFcsQ",
        "outputId": "446ac96c-bbef-449c-bfd6-0a612940c268"
      },
      "execution_count": null,
      "outputs": [
        {
          "output_type": "stream",
          "name": "stdout",
          "text": [
            "gmai.com\n",
            "gmai.com\n"
          ]
        }
      ]
    },
    {
      "cell_type": "markdown",
      "source": [
        "Bài 4: Viết một chương trình thay thế một từ trong chuỗi. Yêu cầu:\n",
        "\n",
        "Nhập vào một chuỗi\n",
        "Nhập vào một từ cần thay thế và một từ thay thế.\n",
        "\n",
        "Sau đó, hiển thị kết quả ra màn hình.\n"
      ],
      "metadata": {
        "id": "LV7VBLm6Gnaz"
      }
    },
    {
      "cell_type": "code",
      "source": [],
      "metadata": {
        "id": "JCHeJ-Iyp3C6"
      },
      "execution_count": null,
      "outputs": []
    },
    {
      "cell_type": "code",
      "source": [
        "str = input(\" your string\")\n",
        "replace_str = input(\" your replace string\")\n",
        "new_str = input(\" your new string\")\n",
        "str_after_replace = str.replace(replace_str, new_str)\n",
        "print(str_after_replace)"
      ],
      "metadata": {
        "colab": {
          "base_uri": "https://localhost:8080/"
        },
        "id": "IaV5wi5OGs_z",
        "outputId": "5880e27f-8a47-4e95-e63f-09747b994495"
      },
      "execution_count": null,
      "outputs": [
        {
          "output_type": "stream",
          "name": "stdout",
          "text": [
            " your stringMinh Man\n",
            " your replace stringMan\n",
            " your new stringMinh\n",
            "Minh Minh\n"
          ]
        }
      ]
    },
    {
      "cell_type": "markdown",
      "source": [
        "Bài 5: Viết một chương trình nhập vào 1 chuỗi.\n",
        "Sau đó, xuất ra màn hình:\n",
        "\n",
        "5 ký tự cuối cùng; 5 ký tự đầu tiên.\n",
        "\n",
        "4 chuỗi trên một dòng cách 1 khoảng trắng.\n",
        "\n",
        "4 chuỗi trên 4 dòng.\n"
      ],
      "metadata": {
        "id": "o2VlvP47OXTu"
      }
    },
    {
      "cell_type": "code",
      "source": [
        "str = \"HoMinhMan\"\n",
        "last_char = str[8:]\n",
        "fisrt_char= str[:5]\n",
        "\n",
        "print(last_char)\n",
        "print(fisrt_char)\n",
        "\n",
        "four_str_1Line = 4*(str + \" \")\n",
        "print(\"four string one line: \" + \"\\n\" + four_str_1Line)\n",
        "\n",
        "four_str_4line = 4*(str + \"\\n\")\n",
        "print(\"four string four line: \" + \"\\n\" + four_str_4line)"
      ],
      "metadata": {
        "colab": {
          "base_uri": "https://localhost:8080/"
        },
        "id": "QVrEKvlIOcnt",
        "outputId": "2785f859-81b3-4878-e9a2-7ca5ed5965ad"
      },
      "execution_count": null,
      "outputs": [
        {
          "output_type": "stream",
          "name": "stdout",
          "text": [
            "n\n",
            "HoMin\n",
            "four string one line: \n",
            "HoMinhMan HoMinhMan HoMinhMan HoMinhMan \n",
            "four string four line: \n",
            "HoMinhMan\n",
            "HoMinhMan\n",
            "HoMinhMan\n",
            "HoMinhMan\n",
            "\n"
          ]
        }
      ]
    },
    {
      "cell_type": "markdown",
      "source": [
        "Bài 6: Viết chương trình tính thể tích hình trụ V = πr2h với r là bán kính của mặt đáy, h là chiều cao của hình trụ, và π là hằng số pi. Với r và h nhập vào từ bàn phím.\n"
      ],
      "metadata": {
        "id": "dzhp8qO9QBXg"
      }
    },
    {
      "cell_type": "code",
      "source": [
        "from math import *\n",
        "h = float(input(\"your h: \"))\n",
        "r = float(input(\"yout r: \"))\n",
        "# pi = float(3.14)\n",
        "V= float(pi*r*r* h)\n",
        "print(\"The tich hinh tru: \" )\n",
        "print(V)"
      ],
      "metadata": {
        "colab": {
          "base_uri": "https://localhost:8080/"
        },
        "id": "6OZ6R_PvQHyn",
        "outputId": "9a2779c3-486f-421d-d1f8-7027ba7a4bf1"
      },
      "execution_count": null,
      "outputs": [
        {
          "output_type": "stream",
          "name": "stdout",
          "text": [
            "your h: 8\n",
            "yout r: 6\n",
            "The tich hinh tru: \n",
            "904.7786842338604\n"
          ]
        }
      ]
    },
    {
      "cell_type": "markdown",
      "source": [
        "Bài 7: Viết chương trình tính diện tích tam giác theo công thức. Yêu cầu nhập vào 3 cạnh và các góc A,B và C (radian)\n"
      ],
      "metadata": {
        "id": "PKtVudfSTPPH"
      }
    },
    {
      "cell_type": "code",
      "source": [
        "import math\n",
        "a,b,c = map(float,input(\"Nhập 3 cạnh tam giác: \" ).split())\n",
        "A,B,C = map(float,input(\"Nhập 3 góc tam giác: \").split())\n",
        "\n",
        "S1 = 0.5*a*b*math.sin(A)\n",
        "S2 = 0.5*a*b*math.sin(A)\n",
        "S3 = 0.5*a*b*math.sin(A)\n",
        "print(S1, S2, S3)"
      ],
      "metadata": {
        "colab": {
          "base_uri": "https://localhost:8080/"
        },
        "id": "lBEvTSW7TcKt",
        "outputId": "5389c470-9f23-4ea0-89b4-e6029c96f800"
      },
      "execution_count": null,
      "outputs": [
        {
          "output_type": "stream",
          "name": "stdout",
          "text": [
            "Nhập 3 cạnh tam giác: 3 4 5\n",
            "Nhập 3 góc tam giác: 45 60 70\n",
            "5.10542114720471 5.10542114720471 5.10542114720471\n"
          ]
        }
      ]
    },
    {
      "cell_type": "markdown",
      "source": [
        "Bài 8: Viết chương trình tính diện tích tam giác đều theo định lý Heron. Yêu cầu nhập vào cạnh tam giác đều.\n"
      ],
      "metadata": {
        "id": "hYjLgiITXN94"
      }
    },
    {
      "cell_type": "code",
      "source": [
        "import math\n",
        "a= float(input(\"Nhập 3 cạnh của tam giác đều: \"))\n",
        "S= math.sqrt(3)/4*a*a\n",
        "print(S)\n",
        "\n"
      ],
      "metadata": {
        "colab": {
          "base_uri": "https://localhost:8080/"
        },
        "id": "hG3g5rd-XTRz",
        "outputId": "c5816219-3b84-497a-a4d8-ca4b313b32a6"
      },
      "execution_count": null,
      "outputs": [
        {
          "output_type": "stream",
          "name": "stdout",
          "text": [
            "Nhập 3 cạnh của tam giác đều: 3\n",
            "3.897114317029974\n"
          ]
        }
      ]
    },
    {
      "cell_type": "markdown",
      "source": [
        "Bài 9: Chạy chương trình Bài 7, nhập giá trị cho trường hợp tam giác đều (lưu ý: giá trị cạnh tam giác = giá trị cạnh tam giác Bài 8). Đánh giá kết quả khi chạy chương trình Bài 7 và Bài 8\n"
      ],
      "metadata": {
        "id": "1sfycgkhYema"
      }
    },
    {
      "cell_type": "code",
      "source": [
        "import math\n",
        "a,b,c = map(float,input(\"Nhập 3 cạnh tam giác: \" ).split())\n",
        "A,B,C = map(float,input(\"Nhập 3 góc tam giác: \").split())\n",
        "\n",
        "S1 = 0.5*a*b*math.sin(A)\n",
        "S2 = 0.5*a*b*math.sin(A)\n",
        "S3 = 0.5*a*b*math.sin(A)\n",
        "print(S1, S2, S3)"
      ],
      "metadata": {
        "colab": {
          "base_uri": "https://localhost:8080/"
        },
        "id": "oNs-aCS4YiWB",
        "outputId": "62573093-9d77-4212-b13a-cef672b8c5a6"
      },
      "execution_count": null,
      "outputs": [
        {
          "output_type": "stream",
          "name": "stdout",
          "text": [
            "Nhập 3 cạnh tam giác: 5 6 7\n",
            "Nhập 3 góc tam giác: 45 55 80\n",
            "12.763552868011777 12.763552868011777 12.763552868011777\n"
          ]
        }
      ]
    },
    {
      "cell_type": "markdown",
      "source": [
        "Bài 10: Viết chương trình yêu cầu người dùng nhập chiều rộng và chiều dài của một căn phòng. Chiều dài và chiều rộng sẽ hiển thị kiểu số dấu phẩy động. Hiển thị diện tích căn phòng.\n"
      ],
      "metadata": {
        "id": "C-uUX6DXY5Ch"
      }
    },
    {
      "cell_type": "code",
      "source": [
        "cd = float(input(\"Chiều dài: \"))\n",
        "cr = float(input(\"Chiều rộng: \"))\n",
        "S = cd*cr\n",
        "print(S)"
      ],
      "metadata": {
        "colab": {
          "base_uri": "https://localhost:8080/"
        },
        "id": "pjAfAVgoY8wA",
        "outputId": "0c6173ae-c3e5-4983-8eeb-cefce378d4ea"
      },
      "execution_count": null,
      "outputs": [
        {
          "output_type": "stream",
          "name": "stdout",
          "text": [
            "Chiều dài: 15.2\n",
            "Chiều rộng: 6.5\n",
            "98.8\n"
          ]
        }
      ]
    },
    {
      "cell_type": "markdown",
      "source": [
        "Bài 11: Viết chương trình đọc chiều dài và chiều rộng của một cánh đồng từ người dùng. Hiển thị diện tích của cánh đồng theo theo đơn vị tính là Mẫu Anh. Gợi ý: Một Mẫu Anh bằng 43.560 met vuông.\n"
      ],
      "metadata": {
        "id": "oFWzo0AwZWD7"
      }
    },
    {
      "cell_type": "code",
      "source": [
        "cd = float(input(\"Chiều dài: \"))\n",
        "cr = float(input(\"Chiều rộng: \"))\n",
        "\n",
        "S = (cd*cr)/43.560\n",
        "print(S)"
      ],
      "metadata": {
        "colab": {
          "base_uri": "https://localhost:8080/"
        },
        "id": "v_t4Jlu5ZXFn",
        "outputId": "262c1d2f-3b13-45c8-d1a6-26fa69aa0314"
      },
      "execution_count": null,
      "outputs": [
        {
          "output_type": "stream",
          "name": "stdout",
          "text": [
            "Chiều dài: 5.5\n",
            "Chiều rộng: 4\n",
            "0.505050505050505\n"
          ]
        }
      ]
    },
    {
      "cell_type": "markdown",
      "source": [
        "Bài 12: Viết chương trình nhập chi phí của một bữa ăn tại nhà hàng từ người dùng. Chương trình sẽ tính thuế và tiền boa cho bữa ăn. Trong đó, tiền boa là 18% số tiền bữa ăn (không có thuế); tiền thuế là 5% số tiền bữa ăn. Đầu ra của chương trình là tổng tiền, gồm: thuế, số tiền boa và tiền bữa ăn. Định dạng đầu ra sao cho tất cả các giá trị được hiển thị bằng hai con số thập phân\n"
      ],
      "metadata": {
        "id": "IHU9Ujdv_Kw4"
      }
    },
    {
      "cell_type": "code",
      "source": [
        "tip = float(0.18)\n",
        "vat = float(0.05)\n",
        "cost = float(input(\"Chi phí bữa ăn: \"))\n",
        "total = cost*(1+tip+vat)\n",
        "print(f\"Tổng cộng: {total:.2f}\")\n"
      ],
      "metadata": {
        "colab": {
          "base_uri": "https://localhost:8080/"
        },
        "id": "s8UydSew_P5H",
        "outputId": "bb29bf7c-9312-41dc-fcfd-5112ac6d60c7"
      },
      "execution_count": null,
      "outputs": [
        {
          "output_type": "stream",
          "name": "stdout",
          "text": [
            "Chi phí bữa ăn: 50\n",
            "Tổng cộng: 61.50\n"
          ]
        }
      ]
    },
    {
      "cell_type": "markdown",
      "source": [
        " Bài 13: Viết chương trình đọc một số nguyên dương n từ người dùng và sau đó hiển thị tổng của tất cả các số nguyên từ 1 đến n. Tổng của n số nguyên dương đầu tiên có thể được tính bằng công thức:\n"
      ],
      "metadata": {
        "id": "rujvWbXiBoeE"
      }
    },
    {
      "cell_type": "code",
      "source": [
        "import math\n",
        "n = int(input(\"Nhập số nguyên dương n: \"))\n",
        "sum = ((n)*(n+1))/2\n",
        "print(sum)"
      ],
      "metadata": {
        "colab": {
          "base_uri": "https://localhost:8080/"
        },
        "id": "3xZNa6n3BsGq",
        "outputId": "97d06008-fefb-4fdc-f5df-87b851f9ee4d"
      },
      "execution_count": null,
      "outputs": [
        {
          "output_type": "stream",
          "name": "stdout",
          "text": [
            "Nhập số nguyên dương n: 8\n",
            "36.0\n"
          ]
        }
      ]
    },
    {
      "cell_type": "markdown",
      "source": [
        "Bài 14: Viết một chương trình đọc hai số nguyên a và b từ người dùng.\n",
        " Chương trình sẽ tính toán và hiển thị:\n",
        "\n",
        "Tổng của a và b\n",
        "\n",
        "Hiệu của a và b\n",
        "\n",
        "Tích của a và b\n",
        "\n",
        "Thương của a chia cho b\n",
        "\n",
        "Phần còn lại khi a được chia cho b\n",
        "\n",
        "Kết quả của 〖𝑙𝑜𝑔〗_10 𝑎\n",
        "\n",
        "Kết quả của ab\n"
      ],
      "metadata": {
        "id": "Cc8K5CabCjab"
      }
    },
    {
      "cell_type": "code",
      "source": [
        "a = int(input(\"Nhập số nguyên dương a: \"))\n",
        "b = int(input(\"Nhập số nguyên dương b: \"))\n",
        "sum= (a+b)\n",
        "Difference = (a-b)\n",
        "multi = (a*b)\n",
        "divide = (a/b)\n",
        "chia_du = (a%b)\n",
        "logarit = math.log10(a)\n",
        "ham_mu = pow(a,b)\n",
        "print(\"sum:\", sum)\n",
        "print(\"multi:\", multi)\n",
        "print(\"divide:\", divide)\n",
        "print(\"chia_du:\", chia_du)\n",
        "print(\"logarit:\", logarit)\n",
        "print(\"ham_mu:\", ham_mu)\n"
      ],
      "metadata": {
        "colab": {
          "base_uri": "https://localhost:8080/"
        },
        "id": "YLBz6mdDCnDv",
        "outputId": "f83dafa5-2eba-40ff-abe6-6c98b1f36e70"
      },
      "execution_count": null,
      "outputs": [
        {
          "output_type": "stream",
          "name": "stdout",
          "text": [
            "Nhập số nguyên dương a: 2\n",
            "Nhập số nguyên dương b: 5\n",
            "sum: 7\n",
            "multi: 10\n",
            "divide: 0.4\n",
            "chia_du: 2\n",
            "logarit: 0.3010299956639812\n",
            "ham_mu: 32\n"
          ]
        }
      ]
    },
    {
      "cell_type": "markdown",
      "source": [
        "Bài 15: Năng lượng Q cần để thay đổi ΔT nhiệt độ (xét trường hợp ΔT > 0) của\n",
        "\n",
        " M gram nước  được tính bằng: Q = M × C × ΔT, trong đó ΔT có đơn vị là độ (độ Celsius),\n",
        " M có đơn vị gram và Q có đơn vị là Joules.\n",
        "\n",
        "Viết chương trình theo yêu cầu:\n",
        "Đọc khối lượng của nước và sự thay đổi ΔT nhiệt độ từ người dùng.\n",
        "\n",
        "Chương trình sẽ hiển thị tổng năng lượng của nước khi thay đổi nhiệt độ mong muốn.\n",
        "Gợi ý: Nhiệt dung riêng của nước là 4.186 J/g◦C.\n",
        "\n",
        "Tính toán chi phí khi thay đổi ΔT nhiệt độ của nước, biết rằng: chi phí là 8,9 cent mỗi kilowatt giờ, 1 Joules = 2.777e-7 kWh.  Hãy tính chi phí để nước đạt nhiệt độ như yêu cầu.\n"
      ],
      "metadata": {
        "id": "emMclMMn3JKP"
      }
    },
    {
      "cell_type": "code",
      "source": [
        " m_nuoc = float(input(\"Nhập khối lượng nước: \"))\n",
        " denta_t = float(input(\"Nhập sự thay đổi nhiệt độ: \"))\n",
        " C = float(4.186)\n",
        " J_to_kWh = float(2.777e-7)\n",
        " if denta_t <= 0:\n",
        "    print(\"Denta t phai lon hon 0\")\n",
        " else:\n",
        "\n",
        "    Q = m_nuoc * denta_t * C * J_to_kWh\n",
        "    print(f\"{Q:.2f}\")\n",
        "\n",
        "    cost = Q * 8.9\n",
        "    print(f\"{cost:.2f}\")"
      ],
      "metadata": {
        "colab": {
          "base_uri": "https://localhost:8080/"
        },
        "id": "5W6wohod3OqO",
        "outputId": "383b5301-4148-4da4-caab-7abd8d6c7170"
      },
      "execution_count": null,
      "outputs": [
        {
          "output_type": "stream",
          "name": "stdout",
          "text": [
            "Nhập khối lượng nước: 9\n",
            "Nhập sự thay đổi nhiệt độ: 12\n",
            "0.00\n",
            "0.00\n"
          ]
        }
      ]
    },
    {
      "cell_type": "markdown",
      "source": [
        "Viết một chương trình xác định tốc độ di chuyển của một vật khi nó chạm đất.\n",
        "\n",
        " Người dùng sẽ nhập chiều cao mà từ đó vật đó được thả (đơn vị tính mét (m)).\n",
        "\n",
        "\n",
        "Gợi ý: Sử dụng công thức 𝒗_𝒇  =√(𝒗_𝒊^𝟐  + 𝟐𝐚𝐝)  để tính tốc độ cuối cùng, 𝒗_𝒊  tốc độ ban đầu, a là gia tốc trọng trường, và d là độ cao.\n",
        "\n",
        " Tốc độ ban đầu của một vật là 0 m/s,  gia tốc trọng trường là 9,8 m/s2.\n"
      ],
      "metadata": {
        "id": "HmqtOdCn8ocd"
      }
    },
    {
      "cell_type": "code",
      "source": [
        "import math\n",
        "d = float(input(\"Nhập chiều cao: \"))\n",
        "v = float(0)\n",
        "a = float(9.8)\n",
        "v_toc_do_cuoi = math.sqrt((v*v) + (2*a*d))\n",
        "print(f\"{v_toc_do_cuoi:.2f}\")"
      ],
      "metadata": {
        "colab": {
          "base_uri": "https://localhost:8080/"
        },
        "id": "tyCrnJLQ8tmj",
        "outputId": "e1a860db-5f11-4319-f3b1-10d64a512a9e"
      },
      "execution_count": null,
      "outputs": [
        {
          "output_type": "stream",
          "name": "stdout",
          "text": [
            "Nhập chiều cao: 120\n",
            "48.50\n"
          ]
        }
      ]
    },
    {
      "cell_type": "markdown",
      "source": [
        "Bài 17: Khi gió thổi trong thời tiết lạnh, làm cho không khí lạnh hơn so với thực tế. Nguyên nhân là do sự chuyển động của không khí làm tăng tốc độ làm mát cho các vật thể (chẳng hạn, như con người).\n",
        "\n",
        "\n",
        "Năm 2001, Canada, Vương quốc Anh và Hoa Kỳ đã áp dụng công thức sau đây để tính toán chỉ số gió lạnh: WCI = 13,12 + 0,6215Ta - 11,37V0.16 + 0,3965Ta V0.16\n",
        "Trong công thức Ta là nhiệt độ không khí tính bằng độ C và V là tốc độ gió tính bằng km/giờ.\n",
        "\n",
        "\n",
        "Viết chương trình đọc nhiệt độ không khí và tốc độ gió từ người dùng. Hiển thị chỉ số gió lạnh được làm tròn đến số nguyên gần nhất.\n"
      ],
      "metadata": {
        "id": "q6NruezN_liE"
      }
    },
    {
      "cell_type": "code",
      "source": [
        "T = float(input(\"Nhập nhiệt độ: \"))\n",
        "V = float(input(\"Nhập tốc độ: \"))\n",
        "WCI= float(13.12 + 0.6215*T - 11.37*V**0.16 + 0.3965*T*V**0.16)\n",
        "WCI_round = round(WCI) #làm tròn\n",
        "print(WCI_round)\n"
      ],
      "metadata": {
        "colab": {
          "base_uri": "https://localhost:8080/"
        },
        "id": "I9NK_9I3_Yhi",
        "outputId": "c40cac52-3058-4907-9d72-087c18f551a3"
      },
      "execution_count": null,
      "outputs": [
        {
          "output_type": "stream",
          "name": "stdout",
          "text": [
            "Nhập nhiệt độ: 36\n",
            "Nhập tốc độ: 36.5\n",
            "41\n"
          ]
        }
      ]
    }
  ]
}