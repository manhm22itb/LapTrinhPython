{
  "nbformat": 4,
  "nbformat_minor": 0,
  "metadata": {
    "colab": {
      "provenance": []
    },
    "kernelspec": {
      "name": "python3",
      "display_name": "Python 3"
    },
    "language_info": {
      "name": "python"
    }
  },
  "cells": [
    {
      "cell_type": "markdown",
      "source": [
        "Bài 1: Xử lý ngoại lệ FileNotFoundError:\n"
      ],
      "metadata": {
        "id": "MRH_mUAhs64J"
      }
    },
    {
      "cell_type": "code",
      "source": [
        "filename = 'ee.txt'\n",
        "try:\n",
        "  with open(filename) as ee:\n",
        "    content = ee.read()\n",
        "except FileNotFoundError:\n",
        "  print(f\"Sorry, the file {filename} does not exist.\")\n",
        "\n",
        "\n"
      ],
      "metadata": {
        "colab": {
          "base_uri": "https://localhost:8080/"
        },
        "id": "1icmgfPys8-K",
        "outputId": "6fc5b9e5-c22d-4254-bf03-5b4f34a4e6ed"
      },
      "execution_count": null,
      "outputs": [
        {
          "output_type": "stream",
          "name": "stdout",
          "text": [
            "Sorry, the file aloha.txt does not exist.\n"
          ]
        }
      ]
    },
    {
      "cell_type": "markdown",
      "source": [
        "Bài 2: về xử lý ngoại lệ FileNotFoundError khi thực hiện chương trình đếm số từ trong file text\n"
      ],
      "metadata": {
        "id": "b13IcNyNuG9K"
      }
    },
    {
      "cell_type": "code",
      "source": [
        "filename='ee.txt'\n",
        "try:\n",
        "  with open('ee.txt') as ee:\n",
        "    content = ee.read()\n",
        "except FileNotFoundError:\n",
        "  print(f\"Sorry the file {filename} does not exits\")\n",
        "else:\n",
        "  words = content.split()\n",
        "  num_words = len(words)\n",
        "  print(\"File\" + filename + \"have\" + str(num_words) + \"words\")\n"
      ],
      "metadata": {
        "colab": {
          "base_uri": "https://localhost:8080/"
        },
        "id": "ei30UQ6XusUK",
        "outputId": "f2f3f959-484e-44ec-811b-ab220a3c9c80"
      },
      "execution_count": null,
      "outputs": [
        {
          "output_type": "stream",
          "name": "stdout",
          "text": [
            "Sorry the file aloha.txt does not exits\n"
          ]
        }
      ]
    },
    {
      "cell_type": "markdown",
      "source": [
        "Bài 3: về thực hiện chương trình đếm số từ trong nhiều file text\n"
      ],
      "metadata": {
        "id": "7Aqvvydovp-j"
      }
    },
    {
      "cell_type": "code",
      "source": [
        "\n",
        "def count_w(filename):\n",
        "  try:\n",
        "    with open(filename) as ee:\n",
        "      content = ee.read()\n",
        "  except FileNotFoundError:\n",
        "    print(\"File\" + filename + \" does not exits\")\n",
        "  else:\n",
        "    words = content.split()\n",
        "    num_words = len(words)\n",
        "    print(\"File\" + filename + \"have\" + str(num_words) + \"words\")\n",
        "filenames = ['t1.txt', 't2.txt', 't3.txt']\n",
        "for filename in filenames:\n",
        "  count_w(filename)\n",
        "\n",
        "\n"
      ],
      "metadata": {
        "colab": {
          "base_uri": "https://localhost:8080/"
        },
        "id": "syKbOSgEvuqz",
        "outputId": "e58582c0-6592-4789-ab3e-d13acab9cea6"
      },
      "execution_count": null,
      "outputs": [
        {
          "output_type": "stream",
          "name": "stdout",
          "text": [
            "Filet1.txtdoes not exits\n",
            "Filet2.txtdoes not exits\n",
            "Filet3.txtdoes not exits\n"
          ]
        }
      ]
    },
    {
      "cell_type": "markdown",
      "source": [
        "Bài 4. Tệp nén là một loại lưu trữ chứa một hoặc nhiều tệp đã bị giảm kích thước. Nén tập tin trong các hệ điều hành hiện đại thường khá đơn giản. Viết chương trình nén và giải nén tệp bằng Python\n"
      ],
      "metadata": {
        "id": "p8_KtCtD1Cqu"
      }
    },
    {
      "cell_type": "code",
      "source": [
        "import zipfile\n",
        "import os\n",
        "\n",
        "# Hàm nén tệp hoặc thư mục\n",
        "def zip_file(source, destination):\n",
        "    with zipfile.ZipFile(destination, 'w', zipfile.ZIP_DEFLATED) as zipf:\n",
        "        if os.path.isdir(source):  # Nếu là thư mục\n",
        "            for root, dirs, files in os.walk(source):\n",
        "                for file in files:\n",
        "                    file_path = os.path.join(root, file)\n",
        "                    arcname = os.path.relpath(file_path, source)\n",
        "                    zipf.write(file_path, arcname)\n",
        "        else:  # Nếu là tệp\n",
        "            zipf.write(source, os.path.basename(source))\n",
        "    print(f\" Đã nén thành công: {destination}\")\n",
        "\n",
        "# Hàm giải nén tệp ZIP\n",
        "def dezip_file(zip_path, extract_to):\n",
        "    with zipfile.ZipFile(zip_path, 'r') as zipf:\n",
        "        zipf.extractall(extract_to)\n",
        "    print(f\" Đã giải nén thành công vào thư mục: {extract_to}\")\n",
        "\n",
        "\n",
        "\n",
        "# Nén tệp hoặc thư mục\n",
        "zip_file(\"../kaggle/\", \"output.zip\")\n",
        "\n",
        "# Giải nén tệp zip\n",
        "dezip_file(\"output.zip\", \"extracted_files\")\n"
      ],
      "metadata": {
        "colab": {
          "base_uri": "https://localhost:8080/"
        },
        "id": "Po9ac8Ve1PNC",
        "outputId": "3908e9b2-aef3-464e-9431-924d3b07ec37"
      },
      "execution_count": null,
      "outputs": [
        {
          "output_type": "stream",
          "name": "stdout",
          "text": [
            " Đã nén thành công: output.zip\n"
          ]
        }
      ]
    }
  ]
}